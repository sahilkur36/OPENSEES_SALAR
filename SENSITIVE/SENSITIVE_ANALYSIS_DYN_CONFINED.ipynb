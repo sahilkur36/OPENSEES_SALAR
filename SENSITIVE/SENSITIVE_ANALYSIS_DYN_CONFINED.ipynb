{
 "cells": [
  {
   "cell_type": "code",
   "execution_count": null,
   "id": "2c1a455c",
   "metadata": {},
   "outputs": [],
   "source": [
    "\"\"\"\n",
    "    #######################################################################\n",
    "    #                           IN THE NAME OF ALLAH                      #\n",
    "    # NONLINEAR DYNAMIC ANALYSIS ON CONCRETE CONFINED SECTION COLUMN      #\n",
    "    # WITH SENSITIVE ANALYSIS USING PROBABILITY DISTRIBUTION FUNCTION     #\n",
    "    #---------------------------------------------------------------------#\n",
    "    #            THIS PROGRAM WRITTEN BY SALAR DELAVAR QASHQAI            #\n",
    "    #                 EMAIL: salar.d.ghashghaei@gmail.com                 #\n",
    "`   #######################################################################\n",
    "\"\"\""
   ]
  },
  {
   "cell_type": "code",
   "execution_count": null,
   "id": "ff9e4cb8",
   "metadata": {},
   "outputs": [],
   "source": [
    "def HISROGRAM_BOXPLOT(X, HISTO_COLOR, LABEL):\n",
    "    import numpy as np\n",
    "    import matplotlib.pyplot as plt\n",
    "    X = np.array(X)\n",
    "    print(\"-------------------------\")\n",
    "    from scipy.stats import skew, kurtosis\n",
    "    MINIMUM = np.min(X)\n",
    "    MAXIMUM = np.max(X)\n",
    "    #MODE = max(set(X), key=list(X).count)\n",
    "    MEDIAN = np.quantile(X, .50)#q2\n",
    "    MEAN = np.mean(X)\n",
    "    STD = np.std(X)\n",
    "    q1 = np.quantile(X, .25)\n",
    "    q3 = np.quantile(X, .75)\n",
    "    SKEW = skew(X)\n",
    "    KURT = kurtosis(X)\n",
    "    #SKEW = (MEAN - MODE) / STD\n",
    "    #KURT = (np.mean((X - MEAN)**4) / STD**4)\n",
    "    # Estimate confidence intervals of the output variable\n",
    "    lower_bound = np.quantile(X, .05)\n",
    "    upper_bound = np.quantile(X, .95)\n",
    "    print(\"Box-Chart Datas: \")\n",
    "    print(f'Minimum: {MINIMUM:.6f}')\n",
    "    print(f'First quartile: {q1:.6f}')\n",
    "    #print(f'Mode: {MODE:.6f}')\n",
    "    print(f'Median: {MEDIAN:.6f}')\n",
    "    print(f'Mean: {MEAN:.6f}')\n",
    "    print(f'Std: {STD:.6f}')\n",
    "    print(f'Third quartile: {q3:.6f}')\n",
    "    print(f'Maximum: {MAXIMUM :.6f}')\n",
    "    print(f'Skewness: {skew(X) :.6f}')\n",
    "    print(f'kurtosis: {kurtosis(X) :.6f}')\n",
    "    print(f\"90% Confidence Interval: ({lower_bound:.6f}, {upper_bound:.6f})\")\n",
    "    print(\"-------------------------\")\n",
    "\n",
    "    plt.figure(figsize=(10,6))\n",
    "    # Plot histogram of data\n",
    "    count, bins, ignored = plt.hist(X, bins=100, color=HISTO_COLOR, density=True, align='mid')#, edgecolor=\"black\"\n",
    "    \n",
    "    # Plot lognormal PDF\n",
    "    x = np.linspace(min(bins), max(bins), 10000)\n",
    "    pdf = (np.exp(-(x - MEAN)**2 / (2 * STD**2)) / (STD * np.sqrt(2 * np.pi)))\n",
    "    plt.plot(x, pdf, linewidth=2, color='r', label=\"Normal PDF\")\n",
    "    \n",
    "    # Plot vertical lines for risk measures\n",
    "    plt.axvline(q1, color=\"black\", linestyle=\"--\", label=f\"Quantile 0.25: {q1:.6f}\")\n",
    "    plt.axvline(MEDIAN, color=\"green\", linestyle=\"--\", label=f\"Median: {MEDIAN:.6f}\")\n",
    "    plt.axvline(q3, color=\"black\", linestyle=\"--\", label=f\"Quantile 0.75: {q3:.6f}\")\n",
    "    #plt.axvline(MODE, color=\"purple\", linestyle=\"--\", label=f\"Mode: {MODE:.6f}\")\n",
    "    plt.axvline(MEAN, color=\"red\", linestyle=\"--\", label=f\"Mean: {MEAN:.6f}\")\n",
    "    plt.axvline(MEAN-STD, color=\"blue\", linestyle=\"--\", label=f\"Mean-Std: {MEAN-STD:.6f}\")\n",
    "    plt.axvline(MEAN+STD, color=\"blue\", linestyle=\"--\", label=f\"Mean+Std: {MEAN+STD:.6f}\")\n",
    "    plt.xlabel(LABEL)\n",
    "    plt.ylabel(\"Frequency\")\n",
    "    prob = np.sum(X > 0) / len(X)\n",
    "    plt.title(f\"Histogram - Probability of Positive {LABEL} is {100*prob:.2f} %\")\n",
    "    plt.legend()\n",
    "    #plt.grid()\n",
    "    plt.show()\n",
    "\n",
    "    #Plot boxplot with outliers\n",
    "    plt.figure(figsize=(10,6))\n",
    "    plt.boxplot(X, vert=0)\n",
    "    # Write the quartile data on the chart\n",
    "    plt.text(q1, 1.05, f\" Q1: {q1:.6f}\")\n",
    "    plt.text(MEDIAN, 1.1, f\" Q2: {MEDIAN:.6f}\")\n",
    "    plt.text(q3, 1.05, f\" Q3: {q3:.6f}\")\n",
    "    #plt.text(MODE, 1.15, f\" Mode: {MODE:.6f}\")\n",
    "    \n",
    "    #plt.text(MEAN, 0.9, f\" Mean: {MEAN:.6f}\")\n",
    "    #plt.text(MEAN-STD, 0.9, f\" Mean-Std: {MEAN-STD:.6f}\")\n",
    "    #plt.text(MEAN+STD, 0.9, f\" Mean+Std: {MEAN+STD:.6f}\")\n",
    "    plt.scatter(MEAN, 1, color=\"red\", marker=\"+\", s=200, label=f\"Mean: {MEAN:.6f}\")\n",
    "    plt.scatter(MEAN-STD, 1, color=\"green\", marker=\"X\", s=200, label=f\"Mean-Std: {MEAN-STD:.6f}\")\n",
    "    plt.scatter(MEAN+STD, 1, color=\"blue\", marker=\"*\", s=200, label=f\"Mean+Std:  {MEAN+STD:.6f}\")\n",
    "    plt.xlabel(LABEL)\n",
    "    plt.ylabel(\"Data\")\n",
    "    plt.title(f\"Boxplot of {LABEL}\")\n",
    "    plt.legend()\n",
    "    plt.grid()\n",
    "    plt.show()\n",
    "    \n",
    "def HISTOGRAM_BOXPLOT_PLOTLY( DATA, XLABEL='X', TITLE='A', COLOR='cyan'):\n",
    "    # Plotting histogram and boxplot\n",
    "    import plotly.express as px\n",
    "    fig = px.histogram(x=DATA, marginal=\"box\", color_discrete_sequence=[COLOR])\n",
    "    fig.update_layout(title=TITLE, xaxis_title=XLABEL, yaxis_title=\"Frequency\")\n",
    "    fig.show()   "
   ]
  },
  {
   "cell_type": "code",
   "execution_count": null,
   "id": "0479587e",
   "metadata": {},
   "outputs": [],
   "source": [
    "# Create a scatter plot\n",
    "def PLOT_SCATTER(X, Y , XLABEL, YLABEL, TITLE, COLOR):\n",
    "    plt.figure(figsize=(10,6))\n",
    "    plt.scatter(X, Y, color=COLOR, marker='o')\n",
    "    # Add labels and title\n",
    "    plt.xlabel(XLABEL)\n",
    "    plt.ylabel(YLABEL)\n",
    "    plt.title(TITLE)\n",
    "\n",
    "    # Show the plot\n",
    "    plt.grid(True)\n",
    "    plt.semilogx();plt.semilogy();\n",
    "    plt.show()\n",
    "\n",
    "def plot_scatter_plotly(X, Y, XLABEL, YLABEL, TITLE, COLOR):\n",
    "    import plotly.express as px\n",
    "    fig = px.scatter(x=X, y=Y, color_discrete_sequence=[COLOR], labels={XLABEL: XLABEL, YLABEL: YLABEL})\n",
    "    fig.update_layout(title=TITLE, xaxis_type='log', yaxis_type='log')\n",
    "    fig.show()"
   ]
  },
  {
   "cell_type": "code",
   "execution_count": null,
   "id": "f1fd6515",
   "metadata": {},
   "outputs": [],
   "source": [
    "def PLOT_HEATMAP(df):\n",
    "    import plotly.figure_factory as ff\n",
    "    # Calculate the correlation matrix\n",
    "    corr_matrix = df.corr()\n",
    "\n",
    "    # Create a correlation heatmap\n",
    "    fig = ff.create_annotated_heatmap(\n",
    "        z=corr_matrix.values,\n",
    "        x=list(corr_matrix.columns),\n",
    "        y=list(corr_matrix.index),\n",
    "        annotation_text=corr_matrix.round(5).values,\n",
    "        showscale=True,\n",
    "        colorscale='Viridis'\n",
    "    )\n",
    "\n",
    "    # Update layout\n",
    "    fig.update_layout(\n",
    "        title='Correlation Heatmap',\n",
    "        xaxis=dict(title='Variable'),\n",
    "        yaxis=dict(title='Variable'),\n",
    "        width=800, height=700\n",
    "    )\n",
    "\n",
    "    fig.show()"
   ]
  },
  {
   "cell_type": "code",
   "execution_count": null,
   "id": "de24e5bb",
   "metadata": {},
   "outputs": [],
   "source": [
    "###                  PLEASE WAIT TO LOAD THE FILES\n",
    "\n",
    "import numpy as np\n",
    "import matplotlib.pyplot as plt\n",
    "import time\n",
    "\n",
    "# monitor cpu time\n",
    "starttime = time.process_time()\n",
    "\n",
    "# Parameters\n",
    "NumFiles = 20000  # number of files\n",
    "\n",
    "# Base names of files\n",
    "NameFiles_D = 'NON_DYN_CONFINED\\DFree_'  # DISPLACEMENT\n",
    "NameFiles_V = 'NON_DYN_CONFINED\\VFree_'  # VELOCITY\n",
    "NameFiles_A = 'NON_DYN_CONFINED\\AFree_'  # ACCELERATION\n",
    "NameFiles_B = 'NON_DYN_CONFINED\\RBase_'  # BASE SHEAR\n",
    "NameFiles_R = 'NON_DYN_CONFINED\\RD_'  # REBAR DIAMETER\n",
    "\n",
    "# Array \n",
    "Col_D = [];\n",
    "Col_V = [];\n",
    "Col_A = [];\n",
    "Col_B = [];\n",
    "Col_R = [];\n",
    "\n",
    "for i in range(1, NumFiles + 1):\n",
    "    # Read and process displacement data\n",
    "    filename_D = f\"{NameFiles_D}{i}.txt\"\n",
    "    D = np.loadtxt(filename_D)\n",
    "    Col_D.append(np.max(np.abs(D[:,1])))\n",
    "    \n",
    "    # Read and process velocity data\n",
    "    filename_V = f\"{NameFiles_V}{i}.txt\"\n",
    "    V = np.loadtxt(filename_V)\n",
    "    Col_V.append(np.max(np.abs(V[:,1])))\n",
    "    \n",
    "    # Read and process acceleration data\n",
    "    filename_A = f\"{NameFiles_A}{i}.txt\"\n",
    "    A = np.loadtxt(filename_A)\n",
    "    Col_A.append(np.max(np.abs(A[:,1])))\n",
    "    \n",
    "    # Read and process base shear data\n",
    "    filename_B = f\"{NameFiles_B}{i}.txt\"\n",
    "    B = np.loadtxt(filename_B)\n",
    "    Col_B.append(np.max(np.abs(B[:,1])))\n",
    "    \n",
    "    # Read and process rebar diameter data\n",
    "    filename_R = f\"{NameFiles_R}{i}.txt\"\n",
    "    R = np.loadtxt(filename_R)\n",
    "    Col_R.append(R[1])\n",
    "    \n",
    "# Write Output\n",
    "np.savetxt('NON_DYN_CONFINED\\TOT_D.txt', Col_D, fmt='%f')\n",
    "np.savetxt('NON_DYN_CONFINED\\TOT_V.txt', Col_V, fmt='%f')\n",
    "np.savetxt('NON_DYN_CONFINED\\TOT_A.txt', Col_A, fmt='%f')\n",
    "np.savetxt('NON_DYN_CONFINED\\TOT_B.txt', Col_B, fmt='%f')\n",
    "np.savetxt('NON_DYN_CONFINED\\TOT_R.txt', Col_R, fmt='%f')\n",
    "\n",
    "\n",
    "totaltime = time.process_time() - starttime\n",
    "print(f'\\nTotal time (s): {totaltime:.4f} \\n\\n')\n"
   ]
  },
  {
   "cell_type": "code",
   "execution_count": null,
   "id": "b1a0e8ab",
   "metadata": {},
   "outputs": [],
   "source": [
    "#HISROGRAM_BOXPLOT(Col_D, HISTO_COLOR='cyan', LABEL='MAX. PEAK GROUND DISPLACEMENT')\n",
    "HISTOGRAM_BOXPLOT_PLOTLY(Col_D, COLOR='cyan', TITLE='MAX. PEAK GROUND DISPLACEMENT')"
   ]
  },
  {
   "cell_type": "code",
   "execution_count": null,
   "id": "308b9407",
   "metadata": {},
   "outputs": [],
   "source": [
    "#HISROGRAM_BOXPLOT(Col_V, HISTO_COLOR='lime', LABEL='MAX. PEAK GROUND VELOCITY')\n",
    "HISTOGRAM_BOXPLOT_PLOTLY(Col_V, COLOR='lime', TITLE='MAX. PEAK GROUND VELOCITY')"
   ]
  },
  {
   "cell_type": "code",
   "execution_count": null,
   "id": "308cc418",
   "metadata": {},
   "outputs": [],
   "source": [
    "#HISROGRAM_BOXPLOT(Col_A, HISTO_COLOR='orange', LABEL='MAX. PEAK GROUND ACCELERATION')\n",
    "HISTOGRAM_BOXPLOT_PLOTLY(Col_A, COLOR='orange', TITLE='MAX. PEAK GROUND ACCELERATION')"
   ]
  },
  {
   "cell_type": "code",
   "execution_count": null,
   "id": "f98eeaba",
   "metadata": {},
   "outputs": [],
   "source": [
    "#HISROGRAM_BOXPLOT(Col_B, HISTO_COLOR='pink', LABEL='Base Shear')\n",
    "HISTOGRAM_BOXPLOT_PLOTLY(Col_B, COLOR='pink', TITLE='Base Shear')"
   ]
  },
  {
   "cell_type": "code",
   "execution_count": null,
   "id": "45087854",
   "metadata": {},
   "outputs": [],
   "source": [
    "HISROGRAM_BOXPLOT(Col_R, HISTO_COLOR='purple', LABEL='Rebar Diameter')\n",
    "#HISTOGRAM_BOXPLOT_PLOTLY(Col_R, COLOR='purple', TITLE='Rebar Diameter')"
   ]
  },
  {
   "cell_type": "code",
   "execution_count": null,
   "id": "2124b88d",
   "metadata": {},
   "outputs": [],
   "source": [
    "#PLOT_SCATTER(Col_R, Col_D , XLABEL= 'Rebar Diameter', YLABEL='MAX. PEAK GROUND DISPLACEMENT (PGD)', TITLE='PLOT REBAR DIAMETER & MAX. PEAK GROUND DISPLACEMENT', COLOR = 'cyan') \n",
    "plot_scatter_plotly(Col_R, Col_D , XLABEL= 'Rebar Diameter', YLABEL='MAX. PEAK GROUND DISPLACEMENT (PGD)', TITLE='PLOT REBAR DIAMETER & MAX. PEAK GROUND DISPLACEMENT', COLOR = 'cyan')"
   ]
  },
  {
   "cell_type": "code",
   "execution_count": null,
   "id": "0f08d79d",
   "metadata": {},
   "outputs": [],
   "source": [
    "#PLOT_SCATTER(Col_R, Col_V , XLABEL= 'Rebar Diameter', YLABEL='MAX. PEAK GROUND VELOCITY', TITLE='PLOT REBAR DIAMETER & MAX. PEAK GROUND VELOCITY (PGV)', COLOR = 'lime')\n",
    "plot_scatter_plotly(Col_R, Col_V , XLABEL= 'Rebar Diameter', YLABEL='MAX. PEAK GROUND VELOCITY', TITLE='PLOT REBAR DIAMETER & MAX. PEAK GROUND VELOCITY (PGV)', COLOR = 'lime')"
   ]
  },
  {
   "cell_type": "code",
   "execution_count": null,
   "id": "009ea550",
   "metadata": {},
   "outputs": [],
   "source": [
    "#PLOT_SCATTER(Col_R, Col_A , XLABEL= 'Rebar Diameter', YLABEL='MAX. PEAK GROUND ACCELERATION', TITLE='PLOT REBAR DIAMETER & MAX. PEAK GROUND ACCELERATION', COLOR = 'orange')\n",
    "plot_scatter_plotly(Col_R, Col_A , XLABEL= 'Rebar Diameter', YLABEL='MAX. PEAK GROUND ACCELERATION', TITLE='PLOT REBAR DIAMETER & MAX. PEAK GROUND ACCELERATION', COLOR = 'orange')"
   ]
  },
  {
   "cell_type": "code",
   "execution_count": null,
   "id": "a4793f01",
   "metadata": {},
   "outputs": [],
   "source": [
    "#PLOT_SCATTER(Col_R, Col_B , XLABEL= 'Rebar Diameter', YLABEL='MAX. BASE SHEAR', TITLE='PLOT REBAR DIAMETER & MAX. BASE SHEAR', COLOR = 'pink')\n",
    "plot_scatter_plotly(Col_R, Col_B , XLABEL= 'Rebar Diameter', YLABEL='MAX. BASE SHEAR', TITLE='PLOT REBAR DIAMETER & MAX. BASE SHEAR', COLOR = 'pink')"
   ]
  },
  {
   "cell_type": "code",
   "execution_count": null,
   "id": "ad94725a",
   "metadata": {},
   "outputs": [],
   "source": [
    "import pandas as pd\n",
    "# Create a DataFrame\n",
    "df = pd.DataFrame({'Rebar Diameter': Col_R, 'PGD': Col_D, 'PGV': Col_V, 'PGA': Col_A, 'Base Shear': Col_B})\n",
    "print(df)\n",
    "df_sorted = df.sort_values(by='Rebar Diameter')\n",
    "print(df_sorted)\n"
   ]
  },
  {
   "cell_type": "code",
   "execution_count": null,
   "id": "0ce31b3a",
   "metadata": {
    "scrolled": true
   },
   "outputs": [],
   "source": [
    "# PLOT HEATMAP FOR CORRELATION \n",
    "PLOT_HEATMAP(df)    "
   ]
  },
  {
   "cell_type": "code",
   "execution_count": null,
   "id": "4c975b56",
   "metadata": {},
   "outputs": [],
   "source": []
  }
 ],
 "metadata": {
  "kernelspec": {
   "display_name": "Python 3 (ipykernel)",
   "language": "python",
   "name": "python3"
  },
  "language_info": {
   "codemirror_mode": {
    "name": "ipython",
    "version": 3
   },
   "file_extension": ".py",
   "mimetype": "text/x-python",
   "name": "python",
   "nbconvert_exporter": "python",
   "pygments_lexer": "ipython3",
   "version": "3.10.9"
  }
 },
 "nbformat": 4,
 "nbformat_minor": 5
}
